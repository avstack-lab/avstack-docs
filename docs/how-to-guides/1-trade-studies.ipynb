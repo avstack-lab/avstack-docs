{
 "cells": [
  {
   "cell_type": "markdown",
   "id": "ad3b5305",
   "metadata": {},
   "source": [
    "# Trade Study Evaluations\n",
    "\n",
    "NOTE: work in progress...\n",
    "\n",
    "Now that we know how to make algorithms and how to make partial-stack AVs, we can leverage the simplicity of AVstack to initiate some trade studies. In these trade studies, we will be comparing and contrasting different designs against objective performance metrics on scenes."
   ]
  },
  {
   "cell_type": "code",
   "execution_count": 1,
   "id": "66e53c71",
   "metadata": {},
   "outputs": [
    {
     "name": "stdout",
     "output_type": "stream",
     "text": [
      "Cannot import rss library\n"
     ]
    },
    {
     "name": "stderr",
     "output_type": "stream",
     "text": [
      "WARNING:root:Cannot find CAN bus data\n",
      "WARNING:root:Cannot find CAN bus data\n"
     ]
    }
   ],
   "source": [
    "import os\n",
    "import avstack\n",
    "import avapi\n",
    "from tqdm import tqdm\n",
    "\n",
    "%load_ext autoreload\n",
    "%autoreload 2\n",
    "\n",
    "data_base = '../../lib-avstack-api/data/'\n",
    "obj_data_dir_k = os.path.join(data_base, 'KITTI/object')\n",
    "raw_data_dir_k = os.path.join(data_base, 'KITTI/raw')\n",
    "obj_data_dir_n = os.path.join(data_base, 'nuScenes')\n",
    "\n",
    "KSM = avapi.kitti.KittiScenesManager(obj_data_dir_k, raw_data_dir_k, convert_raw=False)\n",
    "KDM = KSM.get_scene_dataset_by_index(scene_idx=0)\n",
    "\n",
    "NSM = avapi.nuscenes.nuScenesManager(obj_data_dir_n)\n",
    "NDM = NSM.get_scene_dataset_by_index(0)"
   ]
  },
  {
   "cell_type": "code",
   "execution_count": 2,
   "id": "fb908af2",
   "metadata": {},
   "outputs": [],
   "source": [
    "def run_our_av(DM, av):\n",
    "    \"\"\"Run an AV through a sequence of data\"\"\"\n",
    "    data_manager = avstack.datastructs.DataManager(max_size=1)  # we either pop or we lose it\n",
    "    for frame in tqdm(DM.frames):\n",
    "        # -- add data --> sensor data has ID attached, so it knows where to go\n",
    "        data_manager.push(DM.get_lidar(frame, sensor=\"main_lidar\"))\n",
    "        data_manager.push(DM.get_image(frame, sensor=\"main_camera\"))\n",
    "        \n",
    "        # -- run next frame\n",
    "        t = DM.framerate * frame\n",
    "        av.tick(frame, t, data_manager)\n",
    "\n",
    "t_init = 0\n",
    "ego_init = None  # we don't need this for an agent without localization\n",
    "result_folder = 'results_AV'"
   ]
  }
 ],
 "metadata": {
  "kernelspec": {
   "display_name": "Python 3 (ipykernel)",
   "language": "python",
   "name": "python3"
  },
  "language_info": {
   "codemirror_mode": {
    "name": "ipython",
    "version": 3
   },
   "file_extension": ".py",
   "mimetype": "text/x-python",
   "name": "python",
   "nbconvert_exporter": "python",
   "pygments_lexer": "ipython3",
   "version": "3.8.16"
  }
 },
 "nbformat": 4,
 "nbformat_minor": 5
}
